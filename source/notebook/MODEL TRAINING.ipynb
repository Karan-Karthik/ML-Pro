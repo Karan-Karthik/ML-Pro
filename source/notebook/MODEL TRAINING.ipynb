{
 "cells": [
  {
   "cell_type": "markdown",
   "metadata": {},
   "source": [
    "# MODEL TRAINING\n",
    "\n",
    "### 1.1 Import Data and Required Packages\n",
    "\n",
    "Importing Pandas, Numpy, Matplotlib, Seaborn and Warings Library."
   ]
  },
  {
   "cell_type": "code",
   "execution_count": 2,
   "metadata": {},
   "outputs": [],
   "source": [
    "# Basic Import\n",
    "import numpy as np\n",
    "import pandas as pd\n",
    "import matplotlib.pyplot as plt \n",
    "import seaborn as sns\n",
    "# Modelling\n",
    "from sklearn.metrics import mean_squared_error, r2_score\n",
    "from sklearn.neighbors import KNeighborsRegressor\n",
    "from sklearn.tree import DecisionTreeRegressor\n",
    "from sklearn.ensemble import RandomForestRegressor,AdaBoostRegressor\n",
    "from sklearn.svm import SVR\n",
    "from sklearn.linear_model import LinearRegression, Ridge,Lasso\n",
    "from sklearn.metrics import r2_score, mean_absolute_error, mean_squared_error\n",
    "from sklearn.model_selection import RandomizedSearchCV\n",
    "from catboost import CatBoostRegressor\n",
    "from xgboost import XGBRegressor\n",
    "import warnings\n",
    "warnings.filterwarnings('ignore')"
   ]
  },
  {
   "cell_type": "markdown",
   "metadata": {},
   "source": [
    "##### Import the CSV Data as Pandas DataFrame"
   ]
  },
  {
   "cell_type": "code",
   "execution_count": 3,
   "metadata": {},
   "outputs": [],
   "source": [
    "df = pd.read_csv('data/student_info.csv')"
   ]
  },
  {
   "cell_type": "markdown",
   "metadata": {},
   "source": [
    "#### X and Y variables"
   ]
  },
  {
   "cell_type": "code",
   "execution_count": 4,
   "metadata": {},
   "outputs": [],
   "source": [
    "X = df.drop(columns=['math_score'],axis=1)\n",
    "y=df['math_score']"
   ]
  },
  {
   "cell_type": "code",
   "execution_count": 5,
   "metadata": {},
   "outputs": [],
   "source": [
    "num_features= X.select_dtypes(include=[np.number]).columns\n",
    "cat_features= X.select_dtypes(exclude= 'O').columns\n",
    "\n",
    "from sklearn.preprocessing import OneHotEncoder, StandardScaler\n",
    "from sklearn.compose import ColumnTransformer\n",
    "\n",
    "numeric_transform= StandardScaler()\n",
    "oh_transformer= OneHotEncoder()\n",
    "\n",
    "preprocessor= ColumnTransformer(\n",
    "    [\n",
    "        ('StandardScaler', numeric_transform, num_features),\n",
    "        ('OneHotEncoder', oh_transformer, cat_features)\n",
    "    ]\n",
    ")\n",
    "\n",
    "X= preprocessor.fit_transform(X)\n",
    "\n",
    "# separating dataset into train and test\n",
    "from sklearn.model_selection import train_test_split\n",
    "X_train, X_test, y_train, y_test= train_test_split(X,y, test_size=0.2, random_state=42)"
   ]
  },
  {
   "cell_type": "markdown",
   "metadata": {},
   "source": [
    "Create an Evaluate Function to give all metrics after model Training"
   ]
  },
  {
   "cell_type": "code",
   "execution_count": 6,
   "metadata": {},
   "outputs": [],
   "source": [
    "def evaluate_model(true, predicted):\n",
    "    mae= mean_absolute_error(true, predicted)\n",
    "    rmse= np.sqrt(mean_squared_error(true, predicted))\n",
    "    r2_square= r2_score(true, predicted)\n",
    "    return mae, rmse, r2_square"
   ]
  },
  {
   "cell_type": "code",
   "execution_count": 7,
   "metadata": {},
   "outputs": [
    {
     "name": "stdout",
     "output_type": "stream",
     "text": [
      "Linear Regression\n",
      "Model performace for Training set\n",
      "Mean Absolute Error: 6.2872\n",
      "Root Mean Square Error: 7.8301\n",
      "R2 Score: 0.7280\n",
      "_________________________________________\n",
      "Model performance of Test set\n",
      "Mean Absolute Error: 7.9516\n",
      "Root Mean Square Error: 9.7757\n",
      "R2 Score: 0.6073\n",
      "==============================\n",
      "\n",
      "Lasso\n",
      "Model performace for Training set\n",
      "Mean Absolute Error: 6.9821\n",
      "Root Mean Square Error: 8.6808\n",
      "R2 Score: 0.6658\n",
      "_________________________________________\n",
      "Model performance of Test set\n",
      "Mean Absolute Error: 7.3635\n",
      "Root Mean Square Error: 8.8751\n",
      "R2 Score: 0.6763\n",
      "==============================\n",
      "\n",
      "Ridge\n",
      "Model performace for Training set\n",
      "Mean Absolute Error: 6.3800\n",
      "Root Mean Square Error: 7.8737\n",
      "R2 Score: 0.7250\n",
      "_________________________________________\n",
      "Model performance of Test set\n",
      "Mean Absolute Error: 7.6834\n",
      "Root Mean Square Error: 9.3038\n",
      "R2 Score: 0.6443\n",
      "==============================\n",
      "\n",
      "K-Neighbours Regressor\n",
      "Model performace for Training set\n",
      "Mean Absolute Error: 5.9915\n",
      "Root Mean Square Error: 7.4496\n",
      "R2 Score: 0.7538\n",
      "_________________________________________\n",
      "Model performance of Test set\n",
      "Mean Absolute Error: 7.8850\n",
      "Root Mean Square Error: 9.8539\n",
      "R2 Score: 0.6010\n",
      "==============================\n",
      "\n",
      "Decision Tree\n",
      "Model performace for Training set\n",
      "Mean Absolute Error: 2.9427\n",
      "Root Mean Square Error: 4.9302\n",
      "R2 Score: 0.8922\n",
      "_________________________________________\n",
      "Model performance of Test set\n",
      "Mean Absolute Error: 9.3219\n",
      "Root Mean Square Error: 11.6796\n",
      "R2 Score: 0.4394\n",
      "==============================\n",
      "\n",
      "Random Forest Regressor\n",
      "Model performace for Training set\n",
      "Mean Absolute Error: 4.1565\n",
      "Root Mean Square Error: 5.4656\n",
      "R2 Score: 0.8675\n",
      "_________________________________________\n",
      "Model performance of Test set\n",
      "Mean Absolute Error: 8.2172\n",
      "Root Mean Square Error: 10.2467\n",
      "R2 Score: 0.5685\n",
      "==============================\n",
      "\n",
      "XGBRegressor\n",
      "Model performace for Training set\n",
      "Mean Absolute Error: 3.8341\n",
      "Root Mean Square Error: 5.2954\n",
      "R2 Score: 0.8756\n",
      "_________________________________________\n",
      "Model performance of Test set\n",
      "Mean Absolute Error: 8.6320\n",
      "Root Mean Square Error: 10.7221\n",
      "R2 Score: 0.5276\n",
      "==============================\n",
      "\n",
      "CatBoosting Refressor\n",
      "Model performace for Training set\n",
      "Mean Absolute Error: 5.2312\n",
      "Root Mean Square Error: 6.4069\n",
      "R2 Score: 0.8179\n",
      "_________________________________________\n",
      "Model performance of Test set\n",
      "Mean Absolute Error: 7.7169\n",
      "Root Mean Square Error: 9.6348\n",
      "R2 Score: 0.6185\n",
      "==============================\n",
      "\n",
      "AdaBoost Regressor\n",
      "Model performace for Training set\n",
      "Mean Absolute Error: 6.8995\n",
      "Root Mean Square Error: 8.4122\n",
      "R2 Score: 0.6861\n",
      "_________________________________________\n",
      "Model performance of Test set\n",
      "Mean Absolute Error: 7.3683\n",
      "Root Mean Square Error: 8.8951\n",
      "R2 Score: 0.6748\n",
      "==============================\n",
      "\n"
     ]
    }
   ],
   "source": [
    "models={\n",
    "    \"Linear Regression\": LinearRegression(),\n",
    "    \"Lasso\": Lasso(),\n",
    "    \"Ridge\": Ridge(),\n",
    "    \"K-Neighbours Regressor\": KNeighborsRegressor(),\n",
    "    \"Decision Tree\": DecisionTreeRegressor(),\n",
    "    \"Random Forest Regressor\": RandomForestRegressor(),\n",
    "    \"XGBRegressor\": XGBRegressor(),\n",
    "    \"CatBoosting Refressor\": CatBoostRegressor(verbose=False),\n",
    "    \"AdaBoost Regressor\": AdaBoostRegressor()\n",
    "}\n",
    "\n",
    "model_list=[]\n",
    "rmse_list=[]\n",
    "r2_list=[]\n",
    "\n",
    "\n",
    "for model_name, model in models.items():\n",
    "    #Train Model\n",
    "    model.fit(X_train,y_train)\n",
    "    # Make Predictions\n",
    "    y_train_pred= model.predict(X_train)\n",
    "    y_test_pred= model.predict(X_test)\n",
    "    # Evaluate Train and Test dataset\n",
    "    model_train_mae, model_train_rmse, model_train_r2_square= evaluate_model(y_train, y_train_pred)\n",
    "    model_test_mae, model_test_rmse, model_test_r2_square= evaluate_model(y_test, y_test_pred)\n",
    "\n",
    "    print(model_name)\n",
    "\n",
    "    model_list.append(model_name)\n",
    "    r2_list.append(model_test_r2_square)\n",
    "    rmse_list.append(model_test_rmse)\n",
    "\n",
    "    print('Model performace for Training set')\n",
    "    print('Mean Absolute Error: {:.4f}'.format(model_train_mae))\n",
    "    print('Root Mean Square Error: {:.4f}'.format(model_train_rmse))\n",
    "    print('R2 Score: {:.4f}'.format(model_train_r2_square))\n",
    "\n",
    "    print('_________________________________________')\n",
    "\n",
    "    print('Model performance of Test set')\n",
    "    print('Mean Absolute Error: {:.4f}'.format(model_test_mae))\n",
    "    print('Root Mean Square Error: {:.4f}'.format(model_test_rmse))\n",
    "    print('R2 Score: {:.4f}'.format(model_test_r2_square))\n",
    "\n",
    "    print('='*30)\n",
    "    print()\n",
    "\n",
    "\n"
   ]
  },
  {
   "cell_type": "markdown",
   "metadata": {},
   "source": [
    "### Result"
   ]
  },
  {
   "cell_type": "code",
   "execution_count": 8,
   "metadata": {},
   "outputs": [
    {
     "data": {
      "text/html": [
       "<div>\n",
       "<style scoped>\n",
       "    .dataframe tbody tr th:only-of-type {\n",
       "        vertical-align: middle;\n",
       "    }\n",
       "\n",
       "    .dataframe tbody tr th {\n",
       "        vertical-align: top;\n",
       "    }\n",
       "\n",
       "    .dataframe thead th {\n",
       "        text-align: right;\n",
       "    }\n",
       "</style>\n",
       "<table border=\"1\" class=\"dataframe\">\n",
       "  <thead>\n",
       "    <tr style=\"text-align: right;\">\n",
       "      <th></th>\n",
       "      <th>Model Name</th>\n",
       "      <th>R2 Score</th>\n",
       "    </tr>\n",
       "  </thead>\n",
       "  <tbody>\n",
       "    <tr>\n",
       "      <th>1</th>\n",
       "      <td>Lasso</td>\n",
       "      <td>0.676304</td>\n",
       "    </tr>\n",
       "    <tr>\n",
       "      <th>8</th>\n",
       "      <td>AdaBoost Regressor</td>\n",
       "      <td>0.674843</td>\n",
       "    </tr>\n",
       "    <tr>\n",
       "      <th>2</th>\n",
       "      <td>Ridge</td>\n",
       "      <td>0.644281</td>\n",
       "    </tr>\n",
       "    <tr>\n",
       "      <th>7</th>\n",
       "      <td>CatBoosting Refressor</td>\n",
       "      <td>0.618516</td>\n",
       "    </tr>\n",
       "    <tr>\n",
       "      <th>0</th>\n",
       "      <td>Linear Regression</td>\n",
       "      <td>0.607276</td>\n",
       "    </tr>\n",
       "    <tr>\n",
       "      <th>3</th>\n",
       "      <td>K-Neighbours Regressor</td>\n",
       "      <td>0.600971</td>\n",
       "    </tr>\n",
       "    <tr>\n",
       "      <th>5</th>\n",
       "      <td>Random Forest Regressor</td>\n",
       "      <td>0.568521</td>\n",
       "    </tr>\n",
       "    <tr>\n",
       "      <th>6</th>\n",
       "      <td>XGBRegressor</td>\n",
       "      <td>0.527554</td>\n",
       "    </tr>\n",
       "    <tr>\n",
       "      <th>4</th>\n",
       "      <td>Decision Tree</td>\n",
       "      <td>0.439413</td>\n",
       "    </tr>\n",
       "  </tbody>\n",
       "</table>\n",
       "</div>"
      ],
      "text/plain": [
       "                Model Name  R2 Score\n",
       "1                    Lasso  0.676304\n",
       "8       AdaBoost Regressor  0.674843\n",
       "2                    Ridge  0.644281\n",
       "7    CatBoosting Refressor  0.618516\n",
       "0        Linear Regression  0.607276\n",
       "3   K-Neighbours Regressor  0.600971\n",
       "5  Random Forest Regressor  0.568521\n",
       "6             XGBRegressor  0.527554\n",
       "4            Decision Tree  0.439413"
      ]
     },
     "execution_count": 8,
     "metadata": {},
     "output_type": "execute_result"
    }
   ],
   "source": [
    "pd.DataFrame(list(zip(model_list, r2_list)), columns=['Model Name', 'R2 Score']).sort_values(by=['R2 Score'], ascending=False)"
   ]
  },
  {
   "cell_type": "code",
   "execution_count": 9,
   "metadata": {},
   "outputs": [
    {
     "data": {
      "text/html": [
       "<div>\n",
       "<style scoped>\n",
       "    .dataframe tbody tr th:only-of-type {\n",
       "        vertical-align: middle;\n",
       "    }\n",
       "\n",
       "    .dataframe tbody tr th {\n",
       "        vertical-align: top;\n",
       "    }\n",
       "\n",
       "    .dataframe thead th {\n",
       "        text-align: right;\n",
       "    }\n",
       "</style>\n",
       "<table border=\"1\" class=\"dataframe\">\n",
       "  <thead>\n",
       "    <tr style=\"text-align: right;\">\n",
       "      <th></th>\n",
       "      <th>Model Name</th>\n",
       "      <th>RMSE Score</th>\n",
       "    </tr>\n",
       "  </thead>\n",
       "  <tbody>\n",
       "    <tr>\n",
       "      <th>1</th>\n",
       "      <td>Lasso</td>\n",
       "      <td>8.875116</td>\n",
       "    </tr>\n",
       "    <tr>\n",
       "      <th>8</th>\n",
       "      <td>AdaBoost Regressor</td>\n",
       "      <td>8.895117</td>\n",
       "    </tr>\n",
       "    <tr>\n",
       "      <th>2</th>\n",
       "      <td>Ridge</td>\n",
       "      <td>9.303768</td>\n",
       "    </tr>\n",
       "    <tr>\n",
       "      <th>7</th>\n",
       "      <td>CatBoosting Refressor</td>\n",
       "      <td>9.634814</td>\n",
       "    </tr>\n",
       "    <tr>\n",
       "      <th>0</th>\n",
       "      <td>Linear Regression</td>\n",
       "      <td>9.775728</td>\n",
       "    </tr>\n",
       "    <tr>\n",
       "      <th>3</th>\n",
       "      <td>K-Neighbours Regressor</td>\n",
       "      <td>9.853882</td>\n",
       "    </tr>\n",
       "    <tr>\n",
       "      <th>5</th>\n",
       "      <td>Random Forest Regressor</td>\n",
       "      <td>10.246725</td>\n",
       "    </tr>\n",
       "    <tr>\n",
       "      <th>6</th>\n",
       "      <td>XGBRegressor</td>\n",
       "      <td>10.722143</td>\n",
       "    </tr>\n",
       "    <tr>\n",
       "      <th>4</th>\n",
       "      <td>Decision Tree</td>\n",
       "      <td>11.679571</td>\n",
       "    </tr>\n",
       "  </tbody>\n",
       "</table>\n",
       "</div>"
      ],
      "text/plain": [
       "                Model Name  RMSE Score\n",
       "1                    Lasso    8.875116\n",
       "8       AdaBoost Regressor    8.895117\n",
       "2                    Ridge    9.303768\n",
       "7    CatBoosting Refressor    9.634814\n",
       "0        Linear Regression    9.775728\n",
       "3   K-Neighbours Regressor    9.853882\n",
       "5  Random Forest Regressor   10.246725\n",
       "6             XGBRegressor   10.722143\n",
       "4            Decision Tree   11.679571"
      ]
     },
     "execution_count": 9,
     "metadata": {},
     "output_type": "execute_result"
    }
   ],
   "source": [
    "pd.DataFrame(list(zip(model_list, rmse_list)), columns=['Model Name', 'RMSE Score']).sort_values(by=['RMSE Score'], ascending=True)"
   ]
  },
  {
   "cell_type": "markdown",
   "metadata": {},
   "source": [
    "We will choose Lasso Regression since it has the least Root Mean Square Error and the hightest R2 Score."
   ]
  },
  {
   "cell_type": "markdown",
   "metadata": {},
   "source": [
    "## Lasso Regression"
   ]
  },
  {
   "cell_type": "code",
   "execution_count": 10,
   "metadata": {},
   "outputs": [
    {
     "name": "stdout",
     "output_type": "stream",
     "text": [
      "Accuracy of the Lasso Regression model is 68.24%\n"
     ]
    }
   ],
   "source": [
    "lasso_model= Lasso(alpha=0.1, fit_intercept=True)\n",
    "\n",
    "lasso_model= lasso_model.fit(X_train, y_train)\n",
    "\n",
    "y_pred= lasso_model.predict(X_test)\n",
    "\n",
    "score= r2_score(y_test, y_pred)*100\n",
    "\n",
    "print(\"Accuracy of the Lasso Regression model is %.2f%%\"% score)\n",
    "\n"
   ]
  },
  {
   "cell_type": "markdown",
   "metadata": {},
   "source": [
    "Plot y_pred and y_test"
   ]
  },
  {
   "cell_type": "code",
   "execution_count": 11,
   "metadata": {},
   "outputs": [
    {
     "data": {
      "image/png": "[encoded data removed]",
      "text/plain": [
       "<Figure size 800x600 with 1 Axes>"
      ]
     },
     "metadata": {},
     "output_type": "display_data"
    }
   ],
   "source": [
    "# Create the plot\n",
    "plt.figure(figsize=(8, 6))\n",
    "\n",
    "sns.regplot(x=y_test, y=y_pred, ci=None, color='red', label='Regression Line')\n",
    "\n",
    "plt.plot([min(y_test), max(y_test)], [min(y_test), max(y_test)], color='blue', linestyle='--', label='Perfect Fit')\n",
    "\n",
    "plt.xlabel('Actual Values', fontsize=14)\n",
    "plt.ylabel('Predicted Values', fontsize=14)\n",
    "plt.title('Actual vs Predicted Values', fontsize=16)\n",
    "plt.grid(True)\n",
    "\n",
    "plt.legend()\n",
    "\n",
    "plt.show()"
   ]
  }
 ],
 "metadata": {
  "kernelspec": {
   "display_name": "Python 3",
   "language": "python",
   "name": "python3"
  },
  "language_info": {
   "codemirror_mode": {
    "name": "ipython",
    "version": 3
   },
   "file_extension": ".py",
   "mimetype": "text/x-python",
   "name": "python",
   "nbconvert_exporter": "python",
   "pygments_lexer": "ipython3",
   "version": "3.8.19"
  }
 },
 "nbformat": 4,
 "nbformat_minor": 2
}
